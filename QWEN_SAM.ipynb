{
  "cells": [
    {
      "cell_type": "code",
      "execution_count": 1,
      "metadata": {
        "id": "YauhUYCY8DBD"
      },
      "outputs": [
        {
          "name": "stdout",
          "output_type": "stream",
          "text": [
            "torch version: 2.6.0+cu124, using device: cuda\n",
            "transformers version: 4.52.4\n"
          ]
        }
      ],
      "source": [
        "import torch\n",
        "from transformers import SamProcessor, SamModel\n",
        "from transformers import AutoProcessor\n",
        "from transformers import Qwen2_5_VLForConditionalGeneration\n",
        "from qwen_vl_utils import process_vision_info\n",
        "from PIL import Image\n",
        "import numpy as np\n",
        "import matplotlib.pyplot as plt\n",
        "import cv2\n",
        "import transformers\n",
        "import requests\n",
        "import json\n",
        "import re\n",
        "from io import BytesIO\n",
        "import warnings\n",
        "from huggingface_hub import snapshot_download\n",
        "from pathlib import Path\n",
        "import os, sys\n",
        "warnings.filterwarnings(\"ignore\")\n",
        "transformers.logging.set_verbosity_error()\n",
        "\n",
        "os.environ[\"TOKENIZERS_PARALLELISM\"] = \"false\"\n",
        "torch.backends.cudnn.benchmark = True\n",
        "\n",
        "device = torch.device(\"cuda\" if torch.cuda.is_available() else \"cpu\")\n",
        "print(f\"torch version: {torch.__version__}, using device: {device}\")\n",
        "print(f\"transformers version: {transformers.__version__}\")\n",
        "\n",
        "# !pip install qwen-vl-utils"
      ]
    },
    {
      "cell_type": "code",
      "execution_count": 2,
      "metadata": {},
      "outputs": [
        {
          "data": {
            "application/vnd.jupyter.widget-view+json": {
              "model_id": "b24154ef3518488bb102278b086126d9",
              "version_major": 2,
              "version_minor": 0
            },
            "text/plain": [
              "Fetching 10 files:   0%|          | 0/10 [00:00<?, ?it/s]"
            ]
          },
          "metadata": {},
          "output_type": "display_data"
        },
        {
          "data": {
            "application/vnd.jupyter.widget-view+json": {
              "model_id": "27ee08c5640a4562af034f57dac866b8",
              "version_major": 2,
              "version_minor": 0
            },
            "text/plain": [
              "Fetching 7 files:   0%|          | 0/7 [00:00<?, ?it/s]"
            ]
          },
          "metadata": {},
          "output_type": "display_data"
        },
        {
          "data": {
            "application/vnd.jupyter.widget-view+json": {
              "model_id": "39906b4274eb486d912307b204690f3d",
              "version_major": 2,
              "version_minor": 0
            },
            "text/plain": [
              "Fetching 12 files:   0%|          | 0/12 [00:00<?, ?it/s]"
            ]
          },
          "metadata": {},
          "output_type": "display_data"
        }
      ],
      "source": [
        "\n",
        "if \"google.colab\" in sys.modules:\n",
        "    from google.colab import drive\n",
        "    drive.mount('/content/drive')\n",
        "    HF_MODELS_DIR = Path(\"/content/drive/MyDrive/hf_models\")\n",
        "else:\n",
        "    HF_MODELS_DIR = Path(r\"G:\\Mi unidad\\hf_models\")\n",
        "\n",
        "HF_MODELS_DIR.mkdir(parents=True, exist_ok=True)\n",
        "\n",
        "models = [\n",
        "    \"facebook/sam-vit-large\",\n",
        "    \"Qwen/Qwen2.5-VL-3B-Instruct\",\n",
        "]\n",
        "\n",
        "for repo in models:\n",
        "    local_dir = HF_MODELS_DIR / repo\n",
        "    snapshot_download(\n",
        "        repo_id=repo,\n",
        "        local_dir=str(local_dir),\n",
        "        local_dir_use_symlinks=False,\n",
        "        resume_download=True\n",
        ")"
      ]
    },
    {
      "cell_type": "code",
      "execution_count": null,
      "metadata": {},
      "outputs": [],
      "source": [
        "# models\n",
        "\n",
        "# sam_path = HF_MODELS_DIR / \"facebook/sam-vit-large\"\n",
        "# sam_processor = SamProcessor.from_pretrained(sam_path)\n",
        "# sam_model = SamModel.from_pretrained(sam_path).to(device)\n",
        "\n",
        "qwen_path = HF_MODELS_DIR / \"Qwen/Qwen2.5-VL-3B-Instruct\"\n",
        "qwen_processor = AutoProcessor.from_pretrained(qwen_path)\n",
        "qwen_model = Qwen2_5_VLForConditionalGeneration.from_pretrained(qwen_path, torch_dtype=torch.float16, device_map=\"auto\")"
      ]
    },
    {
      "cell_type": "code",
      "execution_count": 3,
      "metadata": {
        "id": "DyX6Bf-s8DBE"
      },
      "outputs": [],
      "source": [
        "# images\n",
        "url_cars = \"https://github.com/sergiovillanueva/prompt_to_mask/raw/master/assets/cars.jpg\"\n",
        "image_cars = Image.open(BytesIO(requests.get(url_cars).content)).convert(\"RGB\")\n",
        "\n",
        "url_person_cars = \"https://github.com/sergiovillanueva/prompt_to_mask/raw/master/assets/person_cars.jpg\"\n",
        "image_person_cars = Image.open(BytesIO(requests.get(url_person_cars).content)).convert(\"RGB\")\n",
        "\n",
        "url_fruits = \"https://github.com/sergiovillanueva/prompt_to_mask/raw/master/assets/fruits.jpg\"\n",
        "image_fruits = Image.open(BytesIO(requests.get(url_fruits).content)).convert(\"RGB\")"
      ]
    },
    {
      "cell_type": "code",
      "execution_count": null,
      "metadata": {},
      "outputs": [],
      "source": [
        "# qwen\n",
        "image = image_person_cars\n",
        "prompt = \"Detect people and provide bounding box coordinates.\"\n",
        "\n",
        "messages = [{\"role\": \"user\", \"content\": [{\"type\": \"image\", \"image\": image}, {\"type\": \"text\", \"text\": prompt}]}]\n",
        "\n",
        "text = qwen_processor.apply_chat_template(messages, tokenize=False, add_generation_prompt=True)\n",
        "image_inputs, video_inputs = process_vision_info(messages)\n",
        "inputs = qwen_processor(text=[text], images=image_inputs, videos=video_inputs, padding=True, return_tensors=\"pt\").to(device)\n",
        "\n",
        "with torch.no_grad():\n",
        "    generated_ids = qwen_model.generate(**inputs, max_new_tokens=128)\n",
        "    \n",
        "answer = qwen_processor.batch_decode([out[len(inp):] for inp, out in zip(inputs.input_ids, generated_ids)], skip_special_tokens=True)[0]\n",
        "print(f\"Answer: {answer}\")\n",
        "\n",
        "json_match = re.search(r'```json\\n(.*?)\\n```', answer, re.DOTALL)\n",
        "if json_match:\n",
        "    data = json.loads(json_match.group(1))\n",
        "    boxes = [item['bbox_2d'] for item in data if 'bbox_2d' in item]\n",
        "    \n",
        "    if boxes:\n",
        "        img_array = np.array(image)\n",
        "        \n",
        "        for box in boxes:\n",
        "            x1, y1, x2, y2 = box\n",
        "            cv2.rectangle(img_array, (x1, y1), (x2, y2), (0, 0, 255), 3)\n",
        "        \n",
        "        plt.imshow(img_array)\n",
        "        plt.axis(\"off\")\n",
        "        plt.show()"
      ]
    },
    {
      "cell_type": "code",
      "execution_count": null,
      "metadata": {},
      "outputs": [],
      "source": [
        "# qwen + sam"
      ]
    }
  ],
  "metadata": {
    "accelerator": "GPU",
    "colab": {
      "gpuType": "T4",
      "provenance": []
    },
    "kernelspec": {
      "display_name": ".venv",
      "language": "python",
      "name": "python3"
    },
    "language_info": {
      "codemirror_mode": {
        "name": "ipython",
        "version": 3
      },
      "file_extension": ".py",
      "mimetype": "text/x-python",
      "name": "python",
      "nbconvert_exporter": "python",
      "pygments_lexer": "ipython3",
      "version": "3.11.12"
    }
  },
  "nbformat": 4,
  "nbformat_minor": 0
}
